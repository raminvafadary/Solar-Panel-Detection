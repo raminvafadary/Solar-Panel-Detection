{
 "cells": [
  {
   "cell_type": "markdown",
   "metadata": {},
   "source": [
    "### In this notebook we are going to train the Yolov3 object detection model. There are some steps that are done. please note that to run this notebook you require a GPU. so a Colab version of this notebook is provided that can be run with Google free GPU."
   ]
  },
  {
   "cell_type": "markdown",
   "metadata": {
    "colab_type": "text",
    "id": "gwGy3RZgpvUJ"
   },
   "source": [
    "## **Training YOLOv3 object detection on a custom dataset**\n",
    "\n",
    "PyTorch Edition! Thanks to [Ultralytics](https://github.com/ultralytics/yolov3/wiki/Train-Custom-Data) for making this simpler.\n",
    "\n",
    "### **Overview**\n",
    "\n",
    "This notebook walks through how to train a YOLOv3 object detection model on your own dataset using Roboflow and Colab.\n",
    "\n",
    "In this specific example, we'll training an object detection model to recognize solar panels, cars and swimming pools in images. **To adapt this example to your own dataset, you only need to change one line of code in this notebook.**\n",
    "\n",
    "### **Our Data**\n",
    "\n",
    "Our dataset of about 500 satellite images.\n",
    "\n",
    "### **Our Model**\n",
    "\n",
    "We'll be training a YOLOv3 (You Only Look Once) model. This specific model is a one-shot learner, meaning each image only passes through the network once to make a prediction, which allows the architecture to be very performant, viewing up to 60 frames per second in predicting against video feeds.\n",
    "\n",
    "The GitHub repo containing the majority of the code we'll use is available [here](https://github.com/roboflow-ai/yolov3).\n",
    "\n",
    "### **Training**\n",
    "\n",
    "Google Colab provides free GPU resources. Click \"Runtime\" → \"Change runtime type\" → Hardware Accelerator dropdown to \"GPU.\"\n",
    "\n",
    "Colab does have memory limitations, and notebooks must be open in your browser to run. Sessions automatically clear themselves after 12 hours.\n",
    "\n",
    "### **Inference**\n",
    "\n",
    "We'll leverage the `detect.py --weights weights/last.pt` script to produce predictions. Arguments are specified below.\n",
    "\n",
    "### **About**\n",
    "\n",
    "[Roboflow](https://roboflow.ai) makes managing, preprocessing, augmenting, and versioning datasets for computer vision seamless.\n",
    "\n",
    "Developers reduce 50% of their boilerplate code when using Roboflow's workflow, save training time, and increase model reproducibility.\n",
    "\n",
    "\n",
    "\n",
    "\n",
    "\n",
    "\n",
    "\n",
    "\n"
   ]
  },
  {
   "cell_type": "code",
   "execution_count": 1,
   "metadata": {
    "colab": {
     "base_uri": "https://localhost:8080/",
     "height": 34
    },
    "colab_type": "code",
    "id": "KPLc9DEzIwMZ",
    "outputId": "c7374479-f02b-4b07-f208-a5c8a1544582"
   },
   "outputs": [
    {
     "name": "stdout",
     "output_type": "stream",
     "text": [
      "PyTorch 1.5.0 CPU\n"
     ]
    }
   ],
   "source": [
    "import os\n",
    "import torch\n",
    "from IPython.display import Image, clear_output \n",
    "print('PyTorch %s %s' % (torch.__version__, torch.cuda.get_device_properties(0) if torch.cuda.is_available() else 'CPU'))"
   ]
  },
  {
   "cell_type": "markdown",
   "metadata": {
    "colab_type": "text",
    "id": "DdZoG7inXjbS"
   },
   "source": [
    "## Get Data from Roboflow\n",
    "\n",
    "Create an export from Roboflow. **Select \"YOLOv3 Darknet\" as the export type.**\n",
    "\n",
    "Our labels will be formatted to our model's architecture."
   ]
  },
  {
   "cell_type": "markdown",
   "metadata": {
    "colab_type": "text",
    "id": "jqdjyjCsX1yn"
   },
   "source": [
    "## Organize data and labels for Ultralytics YOLOv3 Implementation\n",
    "\n",
    "Ultalytics's implemention of YOLOv3 calls for [a specific file management](https://github.com/ultralytics/yolov3/wiki/Train-Custom-Data) where our images are in a folder called `images` and corresponding labels in a folder called `labels`. The image and label names must match identically. Fortunately, our files are named appropriately from Roboflow.\n",
    "\n",
    "We need to reorganize the folder structure slightly."
   ]
  },
  {
   "cell_type": "code",
   "execution_count": 2,
   "metadata": {
    "colab": {
     "base_uri": "https://localhost:8080/",
     "height": 34
    },
    "colab_type": "code",
    "id": "FbtE_d7MJG8p",
    "outputId": "71afa17a-7556-41c7-cbe6-f2d452fd9974"
   },
   "outputs": [
    {
     "name": "stdout",
     "output_type": "stream",
     "text": [
      "/home/ramin/DSI/projects/capstone_project/code/train\n"
     ]
    }
   ],
   "source": [
    "%cd train"
   ]
  },
  {
   "cell_type": "code",
   "execution_count": 3,
   "metadata": {
    "colab": {
     "base_uri": "https://localhost:8080/",
     "height": 1000
    },
    "colab_type": "code",
    "id": "yh2wijsTYQRf",
    "outputId": "b122feaf-430e-456b-fea9-9effb87a3f4a"
   },
   "outputs": [
    {
     "name": "stdout",
     "output_type": "stream",
     "text": [
      "_darknet.labels  \u001b[0m\u001b[01;34mimages\u001b[0m/  \u001b[01;34mlabels\u001b[0m/  roboflow_data.names\r\n"
     ]
    }
   ],
   "source": [
    "%ls"
   ]
  },
  {
   "cell_type": "code",
   "execution_count": 4,
   "metadata": {
    "colab": {
     "base_uri": "https://localhost:8080/",
     "height": 34
    },
    "colab_type": "code",
    "id": "MDXCKc84mCuB",
    "outputId": "601c0cb8-640f-4605-dd7f-0ffee79001d4"
   },
   "outputs": [
    {
     "name": "stdout",
     "output_type": "stream",
     "text": [
      "/home/ramin/DSI/projects/capstone_project/code/train/images\n"
     ]
    }
   ],
   "source": [
    "%cd images"
   ]
  },
  {
   "cell_type": "code",
   "execution_count": 5,
   "metadata": {
    "colab": {},
    "colab_type": "code",
    "id": "jCDdU0ZzmELL"
   },
   "outputs": [],
   "source": [
    "# create Ultralytics specific text file of training images\n",
    "file = open(\"train_images_roboflow.txt\", \"w\") \n",
    "for root, dirs, files in os.walk(\".\"):\n",
    "    for filename in files:\n",
    "      # print(\"../train/images/\" + filename)\n",
    "      if filename == \"train_images_roboflow.txt\":\n",
    "        pass\n",
    "      else:\n",
    "        file.write(\"../train/images/\" + filename + \"\\n\")\n",
    "file.close()"
   ]
  },
  {
   "cell_type": "code",
   "execution_count": 6,
   "metadata": {
    "colab": {
     "base_uri": "https://localhost:8080/",
     "height": 1000
    },
    "colab_type": "code",
    "id": "ZM13TrHOmPLF",
    "outputId": "d7af35b4-7b08-4a59-9937-10cf33f94412"
   },
   "outputs": [
    {
     "name": "stdout",
     "output_type": "stream",
     "text": [
      "../train/images/208_png.rf.8031b98c4f235a1dc5d451bf5fc3d041.jpg\r\n",
      "../train/images/347_png.rf.76bccc5977f4fb0d9fd20ca5703f89e6.jpg\r\n",
      "../train/images/280_png.rf.0d0ad8c586e6178dce97247b42c8888b.jpg\r\n",
      "../train/images/309_png.rf.73591cd65d8a7831965cd84ad6b9da3c.jpg\r\n",
      "../train/images/138_png.rf.11b9f69145303520f29c555b18db91ed.jpg\r\n",
      "../train/images/190_png.rf.26056dd0414a53bccd23e4bf1c825378.jpg\r\n",
      "../train/images/278_png.rf.ec6073465212765df3f553050d4bf9f4.jpg\r\n",
      "../train/images/264_png.rf.c9e324562497044a473415a75e3fdcf4.jpg\r\n",
      "../train/images/194_png.rf.dd75538879eee11cd0abecd002ae264a.jpg\r\n",
      "../train/images/475_png.rf.479efc42197fc561862e9c7d34861b48.jpg\r\n",
      "../train/images/63_png.rf.527e9f56c109730555e943d1a1819db3.jpg\r\n",
      "../train/images/30_png.rf.cf32f63bf9fd304983b6715a89d848d3.jpg\r\n",
      "../train/images/88_png.rf.644c0f6acd7fe44b3757a9d9e3609c68.jpg\r\n",
      "../train/images/106_png.rf.6c76f3aff42c6f55df85015160e16aad.jpg\r\n",
      "../train/images/295_png.rf.cd4e9c2832f4fba1fcf2b01f65d7b238.jpg\r\n",
      "../train/images/219_png.rf.37294010e05fe5567549eaf1a0f9ae4c.jpg\r\n",
      "../train/images/448_png.rf.7c2319d989ce38be20f123160fda3df0.jpg\r\n",
      "../train/images/326_png.rf.9cc9388d61ae649a4990365243466fa0.jpg\r\n",
      "../train/images/163_png.rf.5baa0f3a637cae8bb7ec315f78b557cb.jpg\r\n",
      "../train/images/217_png.rf.94fe1949f1838a242fd7c7648186663e.jpg\r\n",
      "../train/images/128_png.rf.68bb082a14ea275bb118824cea3cfa66.jpg\r\n",
      "../train/images/248_png.rf.528c5c38609ddb8ad5c981a828e08d3d.jpg\r\n",
      "../train/images/261_png.rf.d92ec6d764e6df55d287c8152ef85492.jpg\r\n",
      "../train/images/162_png.rf.4fe4d59f0c54e5d9d952610b2f690d35.jpg\r\n",
      "../train/images/431_png.rf.eb1fe47f5db1bd73fa6418beb9105b54.jpg\r\n",
      "../train/images/336_png.rf.fa6b5289af6bf11a5f184c85bb2285b2.jpg\r\n",
      "../train/images/351_png.rf.cca6ac739e0682b10dd69e081057a4a7.jpg\r\n",
      "../train/images/247_png.rf.92ade7eb10bde726ac432c479cf4c8f9.jpg\r\n",
      "../train/images/391_png.rf.5ad36f752f49ea86aebf874b9c23b258.jpg\r\n",
      "../train/images/416_png.rf.0c5d64ce09245340d66f74a8b482b3be.jpg\r\n",
      "../train/images/404_png.rf.39b2c5657cecdeb5dda429173b33518d.jpg\r\n",
      "../train/images/274_png.rf.864e3edefa0c46d626f51e0dabec2fd9.jpg\r\n",
      "../train/images/235_png.rf.14b2da3ddac8a62df9066daf5c8fe6e7.jpg\r\n",
      "../train/images/454_png.rf.391d0e11f9b1f65ccb285340d8aa4b6a.jpg\r\n",
      "../train/images/230_png.rf.b5f5046bd4790ea08f082fb2b43a42ef.jpg\r\n",
      "../train/images/259_png.rf.6b07f035cf58285e0cdb509439fdb82e.jpg\r\n",
      "../train/images/18_png.rf.58cee8495616921113420f91425375cd.jpg\r\n",
      "../train/images/242_png.rf.69a2eaa02cb486e1820a439871552b9f.jpg\r\n",
      "../train/images/191_png.rf.08075eb178ead3f57982516cf579a40f.jpg\r\n",
      "../train/images/49_png.rf.845195fc85952d4ddec28b8ee9314b52.jpg\r\n",
      "../train/images/491_png.rf.1f4d65749ac1358e15b5da712c5288dd.jpg\r\n",
      "../train/images/66_png.rf.94dec2c29d56b2c201be7bfd4bba4b5f.jpg\r\n",
      "../train/images/22_png.rf.bbb81a291a739f3bec7156912375d555.jpg\r\n",
      "../train/images/39_png.rf.4fb2d731cd5e619208988abadedd63b1.jpg\r\n",
      "../train/images/19_png.rf.fb2ea36dcbc090bed497def07eb5f404.jpg\r\n",
      "../train/images/331_png.rf.bc0eea88699e17bc9e99451ff6c21e79.jpg\r\n",
      "../train/images/67_png.rf.f86688931380b5e3e8edc93492fc8ff9.jpg\r\n",
      "../train/images/437_png.rf.e1d0255ee901b2da81c9d213e27811e7.jpg\r\n",
      "../train/images/164_png.rf.81aeacd6cb8d9e649513422dd0bd41ee.jpg\r\n",
      "../train/images/405_png.rf.ddc7c8994bf0d6d08ba1c0c26e1ac37c.jpg\r\n",
      "../train/images/215_png.rf.8b82265c369b12acb5e776b6f2d9f0f2.jpg\r\n",
      "../train/images/52_png.rf.d524f6899a465c03779aead207e33b9d.jpg\r\n",
      "../train/images/201_png.rf.3b435f6d0d6f7e61192c0b3a40fef842.jpg\r\n",
      "../train/images/238_png.rf.c1106ca5cdd03c73909fd03475d83fe4.jpg\r\n",
      "../train/images/487_png.rf.a5d22b4470cb6b98a38e51b66b91ccd4.jpg\r\n",
      "../train/images/423_png.rf.056c8fab12218cc419e704f3801ac8d1.jpg\r\n",
      "../train/images/29_png.rf.a8b711b3e1bc0c5bb268d0e353375645.jpg\r\n",
      "../train/images/408_png.rf.d0f542785f03b56a5e435d8729cbca56.jpg\r\n",
      "../train/images/495_png.rf.d3cc6f10ac4cca99cf09c629f0cf834d.jpg\r\n",
      "../train/images/133_png.rf.147711bbb445322f2fb0ba218f815ccc.jpg\r\n",
      "../train/images/179_png.rf.aec57b07154611eb7e57c610e913f0f6.jpg\r\n",
      "../train/images/364_png.rf.e19cedaf10e36025eacbfcf77219c0f4.jpg\r\n",
      "../train/images/270_png.rf.48d13eb5f2dbb257b91dcc4a71d9e137.jpg\r\n",
      "../train/images/189_png.rf.9a797f130e2b3aecf72b57ee7a0a4268.jpg\r\n",
      "../train/images/42_png.rf.bbb4cfec00d887eeb1dbcb3a67aebc3e.jpg\r\n",
      "../train/images/58_png.rf.d93d40faaa0595405e20752c5e2d5aae.jpg\r\n",
      "../train/images/412_png.rf.11a2b4fc886a9a49f6360325dbd323ab.jpg\r\n",
      "../train/images/234_png.rf.a98efd958fd8993e9ab445c6169c3b4f.jpg\r\n",
      "../train/images/86_png.rf.862f08378eb5ad1b70a92a02670bbb82.jpg\r\n",
      "../train/images/373_png.rf.47d95a75e0c6ef2dd614e90a11be5cd6.jpg\r\n",
      "../train/images/187_png.rf.aa9f6b9d926abcac2af1c04ebd97cbf6.jpg\r\n",
      "../train/images/455_png.rf.3aac5bed4573baeced37565d357a7cc1.jpg\r\n",
      "../train/images/233_png.rf.aaf8286b29308fb23c478d87a9650fb9.jpg\r\n",
      "../train/images/456_png.rf.9682979cc1c31f6095fbbdae0d17dbed.jpg\r\n",
      "../train/images/199_png.rf.3e3adfdf0b839ac9b9150f2c8ad23907.jpg\r\n",
      "../train/images/210_png.rf.13929d554a8c9ca5731a023691721948.jpg\r\n",
      "../train/images/397_png.rf.942d7f035bd0ce478089422affc54225.jpg\r\n",
      "../train/images/110_png.rf.d5be9ee86162e1f0c83330b0300a042a.jpg\r\n",
      "../train/images/229_png.rf.6ac24545d228a2e0ba307f84eab8d4de.jpg\r\n",
      "../train/images/500_png.rf.1408fa8b7bd626e115e59302d06f71b1.jpg\r\n",
      "../train/images/87_png.rf.33c979175d9f9b38758edc9367d66563.jpg\r\n",
      "../train/images/56_png.rf.1173f0f454ab6fe285fe7946aa77ae88.jpg\r\n",
      "../train/images/1_png.rf.088ee04b8cab4854c165cbc41f66f22e.jpg\r\n",
      "../train/images/45_png.rf.e260bb34fd67f78867bd3da0b169f089.jpg\r\n",
      "../train/images/292_png.rf.46b99e708b86db8802768ceff0039e7a.jpg\r\n",
      "../train/images/72_png.rf.2f303d69ddee8a75e7aa6ecef63de7bf.jpg\r\n",
      "../train/images/218_png.rf.ac94e0fcc8d115a5d97b7c6022614bbb.jpg\r\n",
      "../train/images/102_png.rf.1b816e51f1ab51ad34fcda172ff37116.jpg\r\n",
      "../train/images/452_png.rf.dece9b03ea685934d3542319fee91f38.jpg\r\n",
      "../train/images/361_png.rf.a66e71d486c5ed7384e25bf64cd61ccd.jpg\r\n",
      "../train/images/476_png.rf.86767067764a11f95f259ba6c9218bdb.jpg\r\n",
      "../train/images/341_png.rf.aed14e23115b90577a880bc4c91f200e.jpg\r\n",
      "../train/images/498_png.rf.cdf41925a01b6d1dbff7f52bc575dc01.jpg\r\n",
      "../train/images/360_png.rf.5975de77c281d6c4e89fb6ee0909c0ad.jpg\r\n",
      "../train/images/91_png.rf.a04e22bb89d7305740d5395cb7c30ccb.jpg\r\n",
      "../train/images/170_png.rf.fe442a7f9f8896c37c13bb26f2b8f9a7.jpg\r\n",
      "../train/images/134_png.rf.4cb61dac33073c1bb21dd55947ab7d91.jpg\r\n",
      "../train/images/168_png.rf.0f4a00fc2a469375b291d7d52b76c0b3.jpg\r\n",
      "../train/images/372_png.rf.985ce8b6936beaeeb0e4b58a14a75b65.jpg\r\n",
      "../train/images/221_png.rf.39c5c2fbf181155f2fb7027e98bf910c.jpg\r\n",
      "../train/images/105_png.rf.f7d7ce0b585aa133d5a5873bdd571d89.jpg\r\n",
      "../train/images/241_png.rf.f9460f24628f1b1039759fc727de22c6.jpg\r\n",
      "../train/images/324_png.rf.166614c4aa93dc4244da2f66a9360671.jpg\r\n",
      "../train/images/485_png.rf.7bfa0f70c3ff4a924068bd58ff6185be.jpg\r\n",
      "../train/images/472_png.rf.20c0934a03321786dd719d80aa45cf56.jpg\r\n",
      "../train/images/4_png.rf.0b28a4112d94a29cc7969cbe7da86f2c.jpg\r\n",
      "../train/images/345_png.rf.a523efae35c4b605676f187f72cc4a25.jpg\r\n",
      "../train/images/285_png.rf.2bfa0d837725dc064d6a8ca4b8203071.jpg\r\n",
      "../train/images/50_png.rf.7166c02ce0f24ec273c11dcfba0e650e.jpg\r\n",
      "../train/images/250_png.rf.a73a5d905f2a5009746812cf18450a95.jpg\r\n",
      "../train/images/365_png.rf.120d960a358b7f1414701a74971553e6.jpg\r\n",
      "../train/images/101_png.rf.e4fc8e77e713cd7f0a28c4d4485ba646.jpg\r\n",
      "../train/images/396_png.rf.2a08c456aacc8aa471e4184f43fd4dca.jpg\r\n",
      "../train/images/161_png.rf.3fedb244dd99185d964dc54d0156ece9.jpg\r\n",
      "../train/images/471_png.rf.3a3b928d2c1f8201a7409398414a6565.jpg\r\n",
      "../train/images/140_png.rf.a8e2163314f18eaac1691f58fdd5cb40.jpg\r\n",
      "../train/images/44_png.rf.b48e48cb865c541c3cc3abd05b82001c.jpg\r\n",
      "../train/images/392_png.rf.ce9216315d89f27dc26d1565b97103ca.jpg\r\n",
      "../train/images/78_png.rf.50c0f10d5d8d80e821ec83fbdb6abc75.jpg\r\n",
      "../train/images/263_png.rf.e7c0b9c3a12103876042e2534343a0cc.jpg\r\n",
      "../train/images/246_png.rf.ea5743799949bab6fdc39e337fb6dfa8.jpg\r\n",
      "../train/images/57_png.rf.cebca459b683e1ac4049c515e4ae3a10.jpg\r\n",
      "../train/images/449_png.rf.4e9d75ca9c4545c71c900c51453e4f3c.jpg\r\n",
      "../train/images/348_png.rf.6838deac080de36f2515f1779755599c.jpg\r\n",
      "../train/images/81_png.rf.83ed43b91a749f97ae36bc876fc6a20f.jpg\r\n",
      "../train/images/245_png.rf.80099e4caf08b6f3164f4430dd87699b.jpg\r\n",
      "../train/images/204_png.rf.94de31fd2655cdc7ca872c00bd5a1ea5.jpg\r\n",
      "../train/images/473_png.rf.7005d372e3572577b50a5fe795ea6093.jpg\r\n",
      "../train/images/496_png.rf.52d0bdc42dc2372258a1ffb98aab7e5e.jpg\r\n",
      "../train/images/207_png.rf.7c7e24e62232e05bd0f22b946b48e679.jpg\r\n",
      "../train/images/17_png.rf.81e1132dc466700846b647d4e0c34f03.jpg\r\n",
      "../train/images/71_png.rf.39ba5db3f6a69f82dce8d72422fcd59a.jpg\r\n",
      "../train/images/281_png.rf.48688780cc7ef08cf3c9516bb8a601ab.jpg\r\n",
      "../train/images/175_png.rf.4bfef4bbce1e7c78ff606eb67176396a.jpg\r\n",
      "../train/images/41_png.rf.10be6bfcb3fd45c5948203942b8c56ba.jpg\r\n",
      "../train/images/253_png.rf.ea8826e49c590e4a8cfe5e48b613885f.jpg\r\n",
      "../train/images/418_png.rf.c6723d0d9747872e34a516fc744e3946.jpg\r\n",
      "../train/images/119_png.rf.3b4f1bd529241a4ecaab399c71321489.jpg\r\n",
      "../train/images/306_png.rf.393f80dc40efa20c9641405574514463.jpg\r\n",
      "../train/images/141_png.rf.285841d065f504694e4b7c3c15b467c9.jpg\r\n",
      "../train/images/282_png.rf.5935a5bf71b945172316eca33612b6ef.jpg\r\n",
      "../train/images/120_png.rf.daf272e1e1ab89162ad0440e12f1d710.jpg\r\n",
      "../train/images/183_png.rf.83f3f2488128b8f9029c5417650d8416.jpg\r\n",
      "../train/images/388_png.rf.cb282dbb05ced062a7313fcfbee496ad.jpg\r\n",
      "../train/images/15_png.rf.e6133aedb74dc3ef1d296135ceb2e633.jpg\r\n",
      "../train/images/411_png.rf.81b99844fdacb9d7fd159aadec74ca13.jpg\r\n",
      "../train/images/258_png.rf.695111164a48838d3e4671d4fd1aa503.jpg\r\n",
      "../train/images/427_png.rf.81d3a335129177ea52d0a6f7fe883ff7.jpg\r\n",
      "../train/images/284_png.rf.aede8aa33e0376fb5ec7a7541bff0151.jpg\r\n",
      "../train/images/196_png.rf.0e399cf5b7261fc46a5f0c1b3142d19e.jpg\r\n",
      "../train/images/65_png.rf.00d0e9ac3ef3204920ac06a7c35daf17.jpg\r\n",
      "../train/images/37_png.rf.958a2d2ffe15e0acd297bf0101cfbb7b.jpg\r\n",
      "../train/images/122_png.rf.6ed609f210bfb1aca0a450bcc7384279.jpg\r\n",
      "../train/images/192_png.rf.3286c13320360a1997fd8b84e1264ed6.jpg\r\n",
      "../train/images/470_png.rf.980d27782f5d3d9cfd93c8c24191a10a.jpg\r\n",
      "../train/images/55_png.rf.eaa507feb3edc1f094dc249df2dda889.jpg\r\n",
      "../train/images/211_png.rf.6a7186df31756a6748e27371b45c8f4b.jpg\r\n",
      "../train/images/7_png.rf.fb02a646ea56d04f4312f70cbdecdbb0.jpg\r\n",
      "../train/images/107_png.rf.95a2febe32b3b0b079cceeb931dc81f9.jpg\r\n",
      "../train/images/482_png.rf.50cd74417a095317e9c5d4cbcc8173bc.jpg\r\n",
      "../train/images/33_png.rf.a992df74bca89e8ee08f5ff5f2bd1d4c.jpg\r\n",
      "../train/images/398_png.rf.469fe8df5e18d9787dba8c73349ea780.jpg\r\n",
      "../train/images/255_png.rf.bbe92b2a5f2b25e89f9f35fcebf76f14.jpg\r\n",
      "../train/images/20_png.rf.798eced1f903b63b60c21ddb0a76c794.jpg\r\n",
      "../train/images/291_png.rf.6a11ef9bd785e7f7308c39aa189c81b4.jpg\r\n",
      "../train/images/185_png.rf.a4451053a0c496a05d4ededfd7338c98.jpg\r\n",
      "../train/images/368_png.rf.64d47153d26274dc1004b35becd3b2de.jpg\r\n",
      "../train/images/299_png.rf.ff12c2bead56badabdb3b40136581a9a.jpg\r\n",
      "../train/images/181_png.rf.8b5733674ad543001b036a1c94015a47.jpg\r\n",
      "../train/images/354_png.rf.3d6720880931c95642814f8b7c49c8e4.jpg\r\n",
      "../train/images/8_png.rf.b59acb2ec75ba83233d934c90addb2df.jpg\r\n",
      "../train/images/385_png.rf.2337018232b29487fd4385eedfd5f9bf.jpg\r\n",
      "../train/images/300_png.rf.73303402f604f79374b63dd90058c417.jpg\r\n",
      "../train/images/232_png.rf.f6a0ce2e294aa39f4b170e30078e9aa9.jpg\r\n",
      "../train/images/332_png.rf.3ebbf63bb4cd704c9c95c22cbb0abccb.jpg\r\n",
      "../train/images/182_png.rf.1acb5dbc5912cf124bc52551179f5aab.jpg\r\n",
      "../train/images/243_png.rf.b6c4411f817608d8cb9e1c062102dd3a.jpg\r\n",
      "../train/images/446_png.rf.c97e21febb1c5d49fbf02e8d78d4b884.jpg\r\n",
      "../train/images/316_png.rf.27dde036cc4329fc28709b4451e28a71.jpg\r\n",
      "../train/images/434_png.rf.6a97fd3c9b65711e26b785dd0382d8b3.jpg\r\n",
      "../train/images/266_png.rf.f56ab74b364946873a45bfc6390d931e.jpg\r\n",
      "../train/images/298_png.rf.90a812736a26ff08f07baef9f145fe43.jpg\r\n",
      "../train/images/69_png.rf.0dca2a46479dd64b22987b45122917ff.jpg\r\n",
      "../train/images/132_png.rf.1040d2f1e24ab80f791c9e815f4442e7.jpg\r\n",
      "../train/images/413_png.rf.92705e17df6c9c02fd0c082afa984aa8.jpg\r\n",
      "../train/images/74_png.rf.5256d91e5e7acc3f034d0f877f1c98c9.jpg\r\n",
      "../train/images/389_png.rf.3e8eb2fafd5b83e9b06da62d5ff77518.jpg\r\n",
      "../train/images/10_png.rf.bca3cd73e7e7f273783aeee8a744f827.jpg\r\n",
      "../train/images/433_png.rf.561add687ffed4132d2ac693ddea9f4f.jpg\r\n",
      "../train/images/315_png.rf.a56defb10c99369ee1edf8897a9605ae.jpg\r\n",
      "../train/images/216_png.rf.bd79edcc79d43cda45c13b42fd1a4198.jpg\r\n",
      "../train/images/23_png.rf.234d8635ebca8da9b0f6b6364ca1e7c7.jpg\r\n",
      "../train/images/174_png.rf.928aad585016a6c60fc16fcf31a87b22.jpg\r\n",
      "../train/images/139_png.rf.a51c4879b2407081245da597e9baf37b.jpg\r\n",
      "../train/images/272_png.rf.d96a8a059e53490a814703efb661f1ac.jpg\r\n",
      "../train/images/346_png.rf.6c9e93706a2309f34facc48e74871977.jpg\r\n",
      "../train/images/339_png.rf.0f40af8a4bf38d8dfa6bc2cfad68578b.jpg\r\n",
      "../train/images/313_png.rf.c7356a58d1789ad440fdfd5ad2899ec9.jpg\r\n",
      "../train/images/497_png.rf.63c12fb9e21cd9da19a7b533f3c4fcda.jpg\r\n",
      "../train/images/494_png.rf.5a0eeb2249cd9d1daecdd2c398bcaa81.jpg\r\n",
      "../train/images/167_png.rf.6608a3e89fcc747311807ca38dab5a79.jpg\r\n",
      "../train/images/311_png.rf.46f3febfdcdf93d0c56c4091b9a23863.jpg\r\n",
      "../train/images/136_png.rf.fd3a408fdce77a50728b7b4e752d8921.jpg\r\n",
      "../train/images/384_png.rf.e40163cae0dd3ffc5d04c869b2861ec5.jpg\r\n",
      "../train/images/165_png.rf.1cc92c1f29a4da5357e9da126235ab7c.jpg\r\n",
      "../train/images/286_png.rf.022b5bc3421267e2a2be278ac3e799e1.jpg\r\n",
      "../train/images/92_png.rf.8ba3d4ff95f395733e2bb5925e48e57e.jpg\r\n",
      "../train/images/290_png.rf.565bf39f3d4df0f1fc9cc77bd2a329e8.jpg\r\n",
      "../train/images/489_png.rf.a9618fe8fd9be01e5e4c51dd1fe3aa89.jpg\r\n",
      "../train/images/289_png.rf.429c3d33e9c8e4536f6676b1f555c22b.jpg\r\n",
      "../train/images/319_png.rf.3fe06b5713d49f584f07bb1c9b4c5854.jpg\r\n",
      "../train/images/268_png.rf.e57992687b6f3330ad57a3525134f510.jpg\r\n",
      "../train/images/477_png.rf.258099d90cb98406d32101a70a24f483.jpg\r\n",
      "../train/images/356_png.rf.85c3feb52ed51485468e64cf72de526d.jpg\r\n",
      "../train/images/363_png.rf.c37cf2f7349e06256109e02803b02820.jpg\r\n",
      "../train/images/108_png.rf.23d8b61c42a8b4391f6a6bf4cd50418d.jpg\r\n",
      "../train/images/16_png.rf.a7c8ad5fd4e836682eef76c062fde3e3.jpg\r\n",
      "../train/images/98_png.rf.e3a8bba20b1a4ccddb23c5dc7172c105.jpg\r\n",
      "../train/images/387_png.rf.82a5f6687a6094352cfac5e575664269.jpg\r\n",
      "../train/images/260_png.rf.1021b4e19486ebe01ea3cd363b1ebb80.jpg\r\n",
      "../train/images/178_png.rf.d6c5f9b45910c26bd93bb229bbb0cde3.jpg\r\n",
      "../train/images/443_png.rf.2488d5a9420052e05ee753b55793ff88.jpg\r\n",
      "../train/images/406_png.rf.75d23bfa98d9b68fdbeca4a387ff8da6.jpg\r\n",
      "../train/images/409_png.rf.fe0c48f2ab18728c2d3d53574c96ec70.jpg\r\n",
      "../train/images/82_png.rf.cd5f660ded650ddabbc5332d3465dfdb.jpg\r\n",
      "../train/images/421_png.rf.2d4629cf525624bb788ddb556a7140ce.jpg\r\n",
      "../train/images/340_png.rf.c8097bc458392bca3a26216b1d5ca132.jpg\r\n",
      "../train/images/90_png.rf.c6cbd1494186047e2528086ecdc5cf9b.jpg\r\n",
      "../train/images/380_png.rf.08e8d36c3bd7ebaff1a388f70404f14b.jpg\r\n",
      "../train/images/148_png.rf.adcfddcd75d16e9371eb9505019ae0e3.jpg\r\n",
      "../train/images/297_png.rf.1569a3570461401fd7045c9fbccc605b.jpg\r\n",
      "../train/images/43_png.rf.0b59f5d1c100f4b66304d7b83477e708.jpg\r\n",
      "../train/images/370_png.rf.fd8f92207339aa7ea4c795cda6f9ae64.jpg\r\n",
      "../train/images/307_png.rf.0551ea2cbba4d6fb121bde80a8e6fb19.jpg\r\n",
      "../train/images/6_png.rf.5cbb6370855e11ea5f8188f06aee918a.jpg\r\n",
      "../train/images/483_png.rf.cbbd14c24c8de1d312bd173ae0c3db15.jpg\r\n",
      "../train/images/236_png.rf.389fb642ca5f94308e71340c6565b6c6.jpg\r\n",
      "../train/images/61_png.rf.af50cb297b56c2c42c7f0cfe39e9c399.jpg\r\n",
      "../train/images/350_png.rf.5c9c751ebf83177322572464feda81e7.jpg\r\n",
      "../train/images/184_png.rf.1a8478da6d66be0e4980d6a4c8d97127.jpg\r\n",
      "../train/images/11_png.rf.10a6b54bf8ffccaa0dba1ec2dc30d934.jpg\r\n",
      "../train/images/321_png.rf.1259a23022184a25b1210d7b915d1e33.jpg\r\n",
      "../train/images/308_png.rf.8fbbe3cf1bbacf9b44d2a0c0dc5ce80a.jpg\r\n",
      "../train/images/47_png.rf.02220851ee48017b8d34c2dc2e721353.jpg\r\n",
      "../train/images/68_png.rf.e609e49f8f2614ccf42b9b44f8695ace.jpg\r\n",
      "../train/images/124_png.rf.27e77d0cfd82db7bcac9f47eb6576232.jpg\r\n",
      "../train/images/371_png.rf.816b5c57e3fe189a455e91098554ecae.jpg\r\n",
      "../train/images/5_png.rf.9fc10a7d8c5753140a30940e7501db6e.jpg\r\n",
      "../train/images/303_png.rf.81fd9f4ff3c9143320607c51c3aa4c57.jpg\r\n",
      "../train/images/75_png.rf.f35107cb88d1d9d97b97c96b95b6d8cc.jpg\r\n",
      "../train/images/51_png.rf.39e5ab07f717b90b74a3d5e10b4423af.jpg\r\n",
      "../train/images/145_png.rf.fade3f609e69cd21d17b78463387fe34.jpg\r\n",
      "../train/images/100_png.rf.392901a035b2cb4329035b7808540d4d.jpg\r\n",
      "../train/images/83_png.rf.6f18d6f857ecbcf2ebbbff0ade81c5a7.jpg\r\n",
      "../train/images/344_png.rf.9279c275a452c8c36efb277e2507c745.jpg\r\n",
      "../train/images/80_png.rf.87a79b186c6e4a2060cb0d6d656b159c.jpg\r\n",
      "../train/images/459_png.rf.654bcf44e6ab0260f42af3e0f08537e6.jpg\r\n",
      "../train/images/329_png.rf.a9b2e93abcd1e67844544ab7d4bc5933.jpg\r\n",
      "../train/images/209_png.rf.819139aa391ebb8d7d68ad834cb30536.jpg\r\n",
      "../train/images/301_png.rf.dc34b108eb93d22d5dd1983758355f30.jpg\r\n",
      "../train/images/432_png.rf.b90348b2741641c08db210263e4bc90e.jpg\r\n",
      "../train/images/70_png.rf.9d6a25225552d3894a072267b5191aa5.jpg\r\n",
      "../train/images/302_png.rf.9d6c0620808fc35a74e62543768d6c45.jpg\r\n",
      "../train/images/333_png.rf.4ed9f3505caedcd71cf47c4cc391f803.jpg\r\n",
      "../train/images/9_png.rf.f118d2a4862b20f0a4c84d0238820a66.jpg\r\n",
      "../train/images/257_png.rf.2aba04e15f8f9770658762f4a26a3e87.jpg\r\n",
      "../train/images/173_png.rf.fb0c4cd0de65baa73bb920d527152a15.jpg\r\n",
      "../train/images/273_png.rf.3d2cbd1ae432d35ed3070dbf387c9d78.jpg\r\n",
      "../train/images/451_png.rf.f9168e1a408b589e7bfa22c4f2f3e99d.jpg\r\n",
      "../train/images/335_png.rf.3f51c15d97508a9de6ef2b82e949e3a5.jpg\r\n",
      "../train/images/158_png.rf.38afc2b70c9ebc9eaa16336664c9e019.jpg\r\n",
      "../train/images/239_png.rf.b1dff2d1fb5aaa4156022a5e645dabc2.jpg\r\n",
      "../train/images/85_png.rf.afca8ddb7a4aaf5ab74c4f6b6f99b769.jpg\r\n",
      "../train/images/403_png.rf.ec9c013e9f6eca46d2099bb1e9fcf8a4.jpg\r\n",
      "../train/images/484_png.rf.5e91e036e37c699c87edc703627357aa.jpg\r\n",
      "../train/images/213_png.rf.53ba476bf27b6f214522baa08c9f955c.jpg\r\n",
      "../train/images/304_png.rf.416f7e5483628803eafd83a1994e916c.jpg\r\n",
      "../train/images/59_png.rf.15833e3c5c9d6656fbd68d2d72b6b9cb.jpg\r\n",
      "../train/images/226_png.rf.d77eb3d45140692307e4b93ff5e52f52.jpg\r\n",
      "../train/images/205_png.rf.6a284c7dca445139dc5e25525e9620a6.jpg\r\n",
      "../train/images/382_png.rf.8b37a5a01370e4691e44fa1e2674ff64.jpg\r\n",
      "../train/images/84_png.rf.c0ab2239f04985dfada5d6a9e0c94c79.jpg\r\n",
      "../train/images/415_png.rf.20ab6e4cd880318692e1ba556731eae7.jpg\r\n",
      "../train/images/76_png.rf.8d697ad321b658e78df7a9f75cbb42fd.jpg\r\n",
      "../train/images/54_png.rf.6fc2a9e63116c5c53b81032737af860b.jpg\r\n",
      "../train/images/240_png.rf.3d6886fc6f283ff615534169275a03a4.jpg\r\n",
      "../train/images/99_png.rf.7c29ea638abbb20fbcd89dce82fefd29.jpg\r\n",
      "../train/images/151_png.rf.92ffecf89d1a45bb5c2fe37f74443e9b.jpg\r\n",
      "../train/images/94_png.rf.1ddabfa6d345969ba372b800de0ff55b.jpg\r\n",
      "../train/images/40_png.rf.d238ba85f3958cfc3f292a85c482eda6.jpg\r\n",
      "../train/images/337_png.rf.42fd8ff340fe98f6f111fa5045ba9014.jpg\r\n",
      "../train/images/269_png.rf.03343c7a1ae05beff669374621cb23f5.jpg\r\n",
      "../train/images/176_png.rf.a4310eecd7af894f4b8a4fc3579a2495.jpg\r\n",
      "../train/images/338_png.rf.ccbc642c442f59ad19d2a2ae075ec9f5.jpg\r\n",
      "../train/images/231_png.rf.a55e2fa37b194b1e779e283b100d3377.jpg\r\n",
      "../train/images/320_png.rf.b76203756b50eb460663aa3ed0b35ef9.jpg\r\n",
      "../train/images/486_png.rf.f5be0ba1b7203ee8b5992c287262c60c.jpg\r\n",
      "../train/images/328_png.rf.8ccc8d9cffe5f9c60a319d6caf31d2f3.jpg\r\n",
      "../train/images/177_png.rf.b8248191a66c8b9ff15bb08a55e82f71.jpg\r\n",
      "../train/images/492_png.rf.a5c359ebb4c65a29d32e4e7b658ad6e8.jpg\r\n",
      "../train/images/265_png.rf.9c2ecd3059038ca6d91747ae0ba19bac.jpg\r\n",
      "../train/images/277_png.rf.8b914eec40c101ebdd957f7341f3315e.jpg\r\n",
      "../train/images/89_png.rf.613aed04eacb475d50fd9b61ab1d78a9.jpg\r\n",
      "../train/images/312_png.rf.d5243c09b65bb9918aedeb1bc3123fe1.jpg\r\n",
      "../train/images/386_png.rf.fe36f8c0ae4e0491a9794aadb3c2dfe2.jpg\r\n",
      "../train/images/349_png.rf.3fca0209b22725390651b5ce2cdda5fb.jpg\r\n",
      "../train/images/12_png.rf.1622dd1626200219c7ff0dfabcc44b80.jpg\r\n",
      "../train/images/480_png.rf.d0850f63c1f6e57c5d25eb89457f6802.jpg\r\n",
      "../train/images/450_png.rf.5bde8d549f04fae1e35b88aca565520c.jpg\r\n",
      "../train/images/419_png.rf.80eb48ef951e2f654df7e8aae5234cc6.jpg\r\n",
      "../train/images/493_png.rf.55c597a3d47f86366e46e4ed11a36ddc.jpg\r\n",
      "../train/images/96_png.rf.45cc9199e84c1cf302bc03df30d0dd4c.jpg\r\n",
      "../train/images/426_png.rf.6baf6a9331ee7b0c425e1eed8b45be1b.jpg\r\n",
      "../train/images/180_png.rf.971e7a40bc551d6a91b31b4ed5264f4f.jpg\r\n",
      "../train/images/244_png.rf.b00cd5a3a1eea81041cde7758493679f.jpg\r\n",
      "../train/images/393_png.rf.6d79dd19b005a254b0ea47205c793727.jpg\r\n",
      "../train/images/317_png.rf.7017c384ead911edd385e1787395194a.jpg\r\n",
      "../train/images/197_png.rf.0d712753bed44383299bc9b9ea0dcc43.jpg\r\n",
      "../train/images/223_png.rf.bc32b32d665090fb6e86706388c631c6.jpg\r\n",
      "../train/images/28_png.rf.9b48b2c3f36e93079ad5646c26d663ed.jpg\r\n",
      "../train/images/425_png.rf.cbf595420d2461b7466a6fc83808564c.jpg\r\n",
      "../train/images/129_png.rf.f8e2c3ff016843d7a00aea0b0a2047e7.jpg\r\n",
      "../train/images/21_png.rf.02d09d798b999fe40f8a8009b8ae8a21.jpg\r\n",
      "../train/images/478_png.rf.bd0b5a6d299fde7152711d869a1b01e2.jpg\r\n",
      "../train/images/24_png.rf.f90c57d01ebb829f06e84b23b0f9e8a9.jpg\r\n",
      "../train/images/422_png.rf.d2e895b9617f884bc39d006ea247f64b.jpg\r\n"
     ]
    }
   ],
   "source": [
    "%cat train_images_roboflow.txt"
   ]
  },
  {
   "cell_type": "code",
   "execution_count": 7,
   "metadata": {
    "colab": {
     "base_uri": "https://localhost:8080/",
     "height": 34
    },
    "colab_type": "code",
    "id": "iUO7VlGigRZO",
    "outputId": "28c05974-0771-41b5-8ead-62dea5978621"
   },
   "outputs": [
    {
     "name": "stdout",
     "output_type": "stream",
     "text": [
      "/home/ramin/DSI/projects/capstone_project/code/valid\n"
     ]
    }
   ],
   "source": [
    "%cd ../../valid"
   ]
  },
  {
   "cell_type": "code",
   "execution_count": 8,
   "metadata": {
    "colab": {
     "base_uri": "https://localhost:8080/",
     "height": 34
    },
    "colab_type": "code",
    "id": "QvP5SAd0mIXc",
    "outputId": "96e17ab9-60e0-47b9-efa9-9ef07e94f52d"
   },
   "outputs": [
    {
     "name": "stdout",
     "output_type": "stream",
     "text": [
      "/home/ramin/DSI/projects/capstone_project/code/valid/images\n"
     ]
    }
   ],
   "source": [
    "%cd images"
   ]
  },
  {
   "cell_type": "code",
   "execution_count": 9,
   "metadata": {
    "colab": {},
    "colab_type": "code",
    "id": "HoX2KlMbmKGM"
   },
   "outputs": [],
   "source": [
    "# create Ultralytics specific text file of validation images\n",
    "file = open(\"valid_images_roboflow.txt\", \"w\") \n",
    "for root, dirs, files in os.walk(\".\"):\n",
    "    for filename in files:\n",
    "      # print(\"../train/images/\" + filename)\n",
    "      if filename == \"valid_images_roboflow.txt\":\n",
    "        pass\n",
    "      else:\n",
    "        file.write(\"../valid/images/\" + filename + \"\\n\")\n",
    "file.close()"
   ]
  },
  {
   "cell_type": "code",
   "execution_count": 10,
   "metadata": {
    "colab": {
     "base_uri": "https://localhost:8080/",
     "height": 1000
    },
    "colab_type": "code",
    "id": "vZDI0ghdhy4i",
    "outputId": "14aed3db-ccc1-44b9-b6a2-a98b7b8ca55b"
   },
   "outputs": [
    {
     "name": "stdout",
     "output_type": "stream",
     "text": [
      "../valid/images/13_png.rf.c40fe27d997244e4dab1d9bdc788c809.jpg\r\n",
      "../valid/images/48_png.rf.3f9bb1bbdb6babb41716adfec1bf572d.jpg\r\n",
      "../valid/images/152_png.rf.288d63b333981b755b1b9aa8405f8fe6.jpg\r\n",
      "../valid/images/414_png.rf.d9a755827f840310cce980bb5aa5e218.jpg\r\n",
      "../valid/images/2_png.rf.0db603ccc7740c8d67398af96e1ef111.jpg\r\n",
      "../valid/images/334_png.rf.660150c67136251600c874cab986f4a3.jpg\r\n",
      "../valid/images/256_png.rf.811a09330b289482ad35188135465048.jpg\r\n",
      "../valid/images/314_png.rf.b24586d1d8e2bdb48644c18da1746f9a.jpg\r\n",
      "../valid/images/26_png.rf.211c1d9c126d82b0688bf6a2f231657c.jpg\r\n",
      "../valid/images/271_png.rf.7b32e9177e2592d64f60148472719203.jpg\r\n",
      "../valid/images/294_png.rf.b1805052efef20daaa72cbc116bd8ec9.jpg\r\n",
      "../valid/images/188_png.rf.668835b1e84f9ae6e40fddd53d8b8718.jpg\r\n",
      "../valid/images/305_png.rf.25b49dc2a8443bc05ba319822dbead8e.jpg\r\n",
      "../valid/images/438_png.rf.191a06c300f42514440ebfc390f58a92.jpg\r\n",
      "../valid/images/254_png.rf.aeb28fa177fbf20c3dda73409e78e3c1.jpg\r\n",
      "../valid/images/104_png.rf.e24701df080856bbe178002e962c3be1.jpg\r\n",
      "../valid/images/381_png.rf.65b4c3af6ba6695b889c3564537a61fa.jpg\r\n",
      "../valid/images/157_png.rf.a5be20c998d6d32f9ebb758e4febee40.jpg\r\n",
      "../valid/images/46_png.rf.c10d2e62e8147157d515277e2447c643.jpg\r\n",
      "../valid/images/14_png.rf.6bac094d06a66f3445aadec238457478.jpg\r\n",
      "../valid/images/378_png.rf.ef68da0bfa15301c52dd2e194d1771d7.jpg\r\n",
      "../valid/images/276_png.rf.0a9c23513280f41e48775ccdaea03f24.jpg\r\n",
      "../valid/images/283_png.rf.cf8b3c5e0cb16e3e2e5eff66c9acb4cd.jpg\r\n",
      "../valid/images/435_png.rf.a3663e2a66d2ccf6d246b688ee4a06e9.jpg\r\n",
      "../valid/images/79_png.rf.50c2ed58e9178d4eb44916ff1d8a3aa1.jpg\r\n",
      "../valid/images/150_png.rf.79add813984119847302937cdf587961.jpg\r\n",
      "../valid/images/135_png.rf.782f8704b2994b0c399a85ac402b0163.jpg\r\n",
      "../valid/images/424_png.rf.8ad79b54502f2544828f818a578d6c88.jpg\r\n",
      "../valid/images/95_png.rf.fde21e54b2756574470e8e6c1161ba66.jpg\r\n",
      "../valid/images/116_png.rf.e6b32707b702343678d7b0310cd08299.jpg\r\n",
      "../valid/images/252_png.rf.e8d5b8779abadaa8a7ca6c42e1d6e0d4.jpg\r\n",
      "../valid/images/195_png.rf.434cb0fdaecfc2425ae8e9a91c5e9ce8.jpg\r\n",
      "../valid/images/366_png.rf.0fee803970e78f5feb3c2d4ab3f4496a.jpg\r\n",
      "../valid/images/206_png.rf.d39a2ab1270272fc8a6e1afebb1334a6.jpg\r\n",
      "../valid/images/420_png.rf.62f2178eeb18707ac63d0356d75855e5.jpg\r\n",
      "../valid/images/417_png.rf.af9580ea7cdf8f4393410ba4c9bd9145.jpg\r\n",
      "../valid/images/469_png.rf.da016b103551b2b134a7936d7460ad58.jpg\r\n",
      "../valid/images/353_png.rf.91e50ceeef0f2cc431be9d541d3f7a9c.jpg\r\n",
      "../valid/images/400_png.rf.fc32b7e1a376bc0ddf4227f5849fb087.jpg\r\n",
      "../valid/images/222_png.rf.b3d3ef32eefc76de73f1d89f5b7d610d.jpg\r\n",
      "../valid/images/31_png.rf.bb814b63a3442be15ec5097ceef60dee.jpg\r\n",
      "../valid/images/436_png.rf.0958618b46ab746efddaece4d1173481.jpg\r\n",
      "../valid/images/453_png.rf.e10d0b52a222c749db96eae0eb27118f.jpg\r\n",
      "../valid/images/401_png.rf.0d83190a838b918e078543a1041a254b.jpg\r\n",
      "../valid/images/262_png.rf.674e639adc1c5f0123c2154433d82cb1.jpg\r\n",
      "../valid/images/394_png.rf.37c493553978040d8f072b60c1539e57.jpg\r\n",
      "../valid/images/38_png.rf.24254e77fd0dd4c1e1e392cb8ba71c3c.jpg\r\n",
      "../valid/images/288_png.rf.14cc7267052e3106adea5080df7b043a.jpg\r\n",
      "../valid/images/458_png.rf.2bc65821dc683391e0e6c1461bd871b1.jpg\r\n",
      "../valid/images/109_png.rf.023ef40da7755818dbbf0b6b53ec8e9b.jpg\r\n",
      "../valid/images/293_png.rf.c53e403d896bd8847583a6af7ed5fe73.jpg\r\n",
      "../valid/images/342_png.rf.c4b712d3e093e78b40c881a78c0e1052.jpg\r\n",
      "../valid/images/462_png.rf.7880fd444dbc10a2dadc01fe2a8d4ef6.jpg\r\n",
      "../valid/images/36_png.rf.0f87a8680559fd864a51f57f863bc89a.jpg\r\n",
      "../valid/images/287_png.rf.9211cd66f33d6a48f7c314ab2c83eb8a.jpg\r\n",
      "../valid/images/463_png.rf.99330241f7e9ecd8191c5cdcc8a406da.jpg\r\n",
      "../valid/images/402_png.rf.54ecf800d4e8931afd42fcda4a92f223.jpg\r\n",
      "../valid/images/330_png.rf.071850e2f765f214a41b7984b868f08c.jpg\r\n",
      "../valid/images/428_png.rf.699f0be55ced381808ab3fb59ac9548c.jpg\r\n",
      "../valid/images/225_png.rf.006d14528f7ace49f8ceed5a31f338d8.jpg\r\n",
      "../valid/images/457_png.rf.2f058d11270ecd73bbf44a87fbc22977.jpg\r\n",
      "../valid/images/359_png.rf.983965ec0c6e567c6cef147cb0ee533a.jpg\r\n",
      "../valid/images/172_png.rf.a19efacf06e840f9fffc2e870db92849.jpg\r\n",
      "../valid/images/399_png.rf.be9b2f913884a3c1010d57c3c2232a39.jpg\r\n",
      "../valid/images/379_png.rf.69d5336587ba9c1aab95ef36a441b7be.jpg\r\n",
      "../valid/images/461_png.rf.9a9383476dc90a08be517fdb29a15718.jpg\r\n",
      "../valid/images/441_png.rf.27b39c562fe57b5a5add22cc45808719.jpg\r\n",
      "../valid/images/valid_images_roboflow.shapes\r\n",
      "../valid/images/440_png.rf.0b54dc758e0d938f9185b3dc3a63d098.jpg\r\n",
      "../valid/images/429_png.rf.698d38a9b7ecf5a6b73dde90cc37c625.jpg\r\n",
      "../valid/images/169_png.rf.ee3f9422da2141f2366141e678880dc6.jpg\r\n",
      "../valid/images/130_png.rf.ea6ba566987967721552148a272ec45c.jpg\r\n",
      "../valid/images/460_png.rf.1f2e9e694fed4fb7f21939c31c3aa46b.jpg\r\n",
      "../valid/images/127_png.rf.7937572272ba5d081304ac263aeec6d8.jpg\r\n",
      "../valid/images/214_png.rf.550e48b50f26d8e0294b1d84eb06ab07.jpg\r\n",
      "../valid/images/103_png.rf.327501fa495bab2429b80f65e0d59374.jpg\r\n",
      "../valid/images/445_png.rf.561d1269a61881f0098cbd103539dabb.jpg\r\n",
      "../valid/images/166_png.rf.0fc9892308943839ea7de5711442fe0f.jpg\r\n",
      "../valid/images/220_png.rf.cc245b965561ed090c12ec016becf5a1.jpg\r\n",
      "../valid/images/249_png.rf.def460156f4b1c2775a232fc06478371.jpg\r\n",
      "../valid/images/325_png.rf.aa060176b3176697e4c092d2f10c81f4.jpg\r\n",
      "../valid/images/357_png.rf.3e0321619c2409651382cf2031f4ca30.jpg\r\n",
      "../valid/images/490_png.rf.96e362dcf1231aab0ccb851637737f4f.jpg\r\n",
      "../valid/images/465_png.rf.ea3ac9de53d7801693e0d39c4b82179a.jpg\r\n",
      "../valid/images/64_png.rf.41337312d659932e2b9ac481bbbcdce7.jpg\r\n",
      "../valid/images/35_png.rf.e511594e4c502624d929483cebbf6806.jpg\r\n",
      "../valid/images/237_png.rf.88d3064f1c33dc8f46143117892d14d9.jpg\r\n",
      "../valid/images/137_png.rf.06e62df3fddd2e44faec639ae91620da.jpg\r\n",
      "../valid/images/355_png.rf.500467f7e8a374b04c3eea4da26797d0.jpg\r\n",
      "../valid/images/367_png.rf.24d759ca45fc3aa11b8ffb3e5278a9ce.jpg\r\n",
      "../valid/images/34_png.rf.1fed1e1177276e1c1aa89e5dbce23090.jpg\r\n",
      "../valid/images/395_png.rf.b004ddc515f49338d7240076c07c472a.jpg\r\n",
      "../valid/images/171_png.rf.d7dec366ab869593746c961a882dc713.jpg\r\n",
      "../valid/images/488_png.rf.4c67ca4a8d05dda347bae31000e63af9.jpg\r\n"
     ]
    }
   ],
   "source": [
    "%cat valid_images_roboflow.txt"
   ]
  },
  {
   "cell_type": "markdown",
   "metadata": {
    "colab_type": "text",
    "id": "N_dkaQmirgA-"
   },
   "source": [
    "## Set up model config\n",
    "\n",
    "We should configure our model for training.\n",
    "\n",
    "This requires editing the `roboflow.data` file, which tells our model where to find our data, our numbers of classes, and our class label names.\n",
    "\n",
    "Our paths for our labels and images are correct.\n",
    "\n",
    "But we need to update our class names. That's handled below..\n",
    "\n",
    "\n"
   ]
  },
  {
   "cell_type": "code",
   "execution_count": 11,
   "metadata": {
    "colab": {
     "base_uri": "https://localhost:8080/",
     "height": 34
    },
    "colab_type": "code",
    "id": "55J0O7LRuoTv",
    "outputId": "4d3745e5-2a4c-4abc-b3d6-992674344995"
   },
   "outputs": [
    {
     "name": "stdout",
     "output_type": "stream",
     "text": [
      "/home/ramin/DSI/projects/capstone_project/code/yolov3/data\n"
     ]
    }
   ],
   "source": [
    "%cd ../../yolov3/data"
   ]
  },
  {
   "cell_type": "code",
   "execution_count": 12,
   "metadata": {
    "colab": {
     "base_uri": "https://localhost:8080/",
     "height": 230
    },
    "colab_type": "code",
    "id": "IaVwHzdprdSN",
    "outputId": "3b85304c-3b1a-49a5-97b6-fd50356b889e"
   },
   "outputs": [
    {
     "name": "stdout",
     "output_type": "stream",
     "text": [
      "car\r\n",
      "solar_panel\r\n",
      "swimming_pool"
     ]
    }
   ],
   "source": [
    "# display class labels imported from Roboflow\n",
    "%cat ../../train/_darknet.labels"
   ]
  },
  {
   "cell_type": "code",
   "execution_count": 13,
   "metadata": {
    "colab": {},
    "colab_type": "code",
    "id": "Kq-kLpfNlZTQ"
   },
   "outputs": [],
   "source": [
    "# convert .labels to .names for Ultralytics specification\n",
    "%cat ../../train/_darknet.labels > ../../train/roboflow_data.names"
   ]
  },
  {
   "cell_type": "code",
   "execution_count": 14,
   "metadata": {
    "colab": {},
    "colab_type": "code",
    "id": "gol1kFpN0FQh"
   },
   "outputs": [],
   "source": [
    "def get_num_classes(labels_file_path):\n",
    "    classes = 0\n",
    "    with open(labels_file_path, 'r') as f:\n",
    "      for line in f:\n",
    "        classes += 1\n",
    "    return classes"
   ]
  },
  {
   "cell_type": "code",
   "execution_count": 15,
   "metadata": {
    "colab": {},
    "colab_type": "code",
    "id": "yG4X2vQh0rZf"
   },
   "outputs": [],
   "source": [
    "# update the roboflow.data file with correct number of classes\n",
    "import re\n",
    "\n",
    "num_classes = get_num_classes(\"../../train/_darknet.labels\")\n",
    "with open(\"roboflow.data\") as f:\n",
    "    s = f.read()\n",
    "with open(\"roboflow.data\", 'w') as f:\n",
    "    \n",
    "    # Set number of classes num_classes.\n",
    "    s = re.sub('classes=[0-9]+',\n",
    "               'classes={}'.format(num_classes), s)\n",
    "    f.write(s)"
   ]
  },
  {
   "cell_type": "code",
   "execution_count": 16,
   "metadata": {
    "colab": {
     "base_uri": "https://localhost:8080/",
     "height": 87
    },
    "colab_type": "code",
    "id": "un6Or-F31M1Z",
    "outputId": "d1c066e7-dfe9-46e3-98de-40537ea09c2a"
   },
   "outputs": [
    {
     "name": "stdout",
     "output_type": "stream",
     "text": [
      "classes=3\r\n",
      "train=../train/images/train_images_roboflow.txt\r\n",
      "valid=../valid/images/valid_images_roboflow.txt\r\n",
      "names=../train/roboflow_data.names\r\n"
     ]
    }
   ],
   "source": [
    "# display updated number of classes\n",
    "%cat roboflow.data"
   ]
  },
  {
   "cell_type": "markdown",
   "metadata": {
    "colab_type": "text",
    "id": "iqOa_ogHqhOg"
   },
   "source": [
    "## Training our model\n",
    "\n",
    "Once we have our data prepped, we'll train our model using the train script.\n",
    "\n",
    "By default, this script trains for 300 epochs."
   ]
  },
  {
   "cell_type": "code",
   "execution_count": 17,
   "metadata": {
    "colab": {
     "base_uri": "https://localhost:8080/",
     "height": 34
    },
    "colab_type": "code",
    "id": "3pEzmWztuevf",
    "outputId": "fbb7df96-e549-4cc1-f938-dc1584709f98"
   },
   "outputs": [
    {
     "name": "stdout",
     "output_type": "stream",
     "text": [
      "/home/ramin/DSI/projects/capstone_project/code/yolov3\n"
     ]
    }
   ],
   "source": [
    "%cd ../"
   ]
  },
  {
   "cell_type": "code",
   "execution_count": 19,
   "metadata": {
    "colab": {
     "base_uri": "https://localhost:8080/",
     "height": 1000
    },
    "colab_type": "code",
    "id": "gnVZo1BknVC_",
    "outputId": "292507ef-d465-4166-d882-2f8bd633a2c0",
    "scrolled": true
   },
   "outputs": [
    {
     "name": "stdout",
     "output_type": "stream",
     "text": [
      "Namespace(accumulate=4, adam=False, batch_size=16, bucket='', cache_images=False, cfg='cfg/yolov3-spp.cfg', data='data/roboflow.data', device='', epochs=10, evolve=False, img_size=[416], multi_scale=False, name='', nosave=False, notest=False, rect=False, resume=False, single_cls=False, var=None, weights='weights/yolov3-spp-ultralytics.pt')\n",
      "Using CPU\n",
      "\n",
      "/home/ramin/anaconda3/lib/python3.7/site-packages/tensorboard/compat/tensorflow_stub/dtypes.py:541: FutureWarning: Passing (type, 1) or '1type' as a synonym of type is deprecated; in a future version of numpy, it will be understood as (type, (1,)) / '(1,)type'.\n",
      "  _np_qint8 = np.dtype([(\"qint8\", np.int8, 1)])\n",
      "/home/ramin/anaconda3/lib/python3.7/site-packages/tensorboard/compat/tensorflow_stub/dtypes.py:542: FutureWarning: Passing (type, 1) or '1type' as a synonym of type is deprecated; in a future version of numpy, it will be understood as (type, (1,)) / '(1,)type'.\n",
      "  _np_quint8 = np.dtype([(\"quint8\", np.uint8, 1)])\n",
      "/home/ramin/anaconda3/lib/python3.7/site-packages/tensorboard/compat/tensorflow_stub/dtypes.py:543: FutureWarning: Passing (type, 1) or '1type' as a synonym of type is deprecated; in a future version of numpy, it will be understood as (type, (1,)) / '(1,)type'.\n",
      "  _np_qint16 = np.dtype([(\"qint16\", np.int16, 1)])\n",
      "/home/ramin/anaconda3/lib/python3.7/site-packages/tensorboard/compat/tensorflow_stub/dtypes.py:544: FutureWarning: Passing (type, 1) or '1type' as a synonym of type is deprecated; in a future version of numpy, it will be understood as (type, (1,)) / '(1,)type'.\n",
      "  _np_quint16 = np.dtype([(\"quint16\", np.uint16, 1)])\n",
      "/home/ramin/anaconda3/lib/python3.7/site-packages/tensorboard/compat/tensorflow_stub/dtypes.py:545: FutureWarning: Passing (type, 1) or '1type' as a synonym of type is deprecated; in a future version of numpy, it will be understood as (type, (1,)) / '(1,)type'.\n",
      "  _np_qint32 = np.dtype([(\"qint32\", np.int32, 1)])\n",
      "/home/ramin/anaconda3/lib/python3.7/site-packages/tensorboard/compat/tensorflow_stub/dtypes.py:550: FutureWarning: Passing (type, 1) or '1type' as a synonym of type is deprecated; in a future version of numpy, it will be understood as (type, (1,)) / '(1,)type'.\n",
      "  np_resource = np.dtype([(\"resource\", np.ubyte, 1)])\n",
      "Model Summary: 225 layers, 6.29987e+07 parameters, 6.29987e+07 gradients\n",
      "Caching labels (304 found, 0 missing, 22 empty, 0 duplicate, for 326 images): 10\n",
      "Caching labels (85 found, 0 missing, 8 empty, 0 duplicate, for 93 images): 100%|\n",
      "Using 4 dataloader workers\n",
      "Starting training for 10 epochs...\n",
      "\n",
      "     Epoch   gpu_mem      GIoU       obj       cls     total   targets  img_size\n",
      "  0%|                                                    | 0/21 [00:00<?, ?it/s]Killed\n"
     ]
    }
   ],
   "source": [
    "!python3 train.py --data data/roboflow.data --epochs 10"
   ]
  },
  {
   "cell_type": "markdown",
   "metadata": {
    "colab_type": "text",
    "id": "iuRGoRDFq7md"
   },
   "source": [
    "## Display training performance\n",
    "\n",
    "We'll use a default provided script to display image results. **For example:**\n",
    "\n",
    "![example results](https://user-images.githubusercontent.com/26833433/63258271-fe9d5300-c27b-11e9-9a15-95038daf4438.png)"
   ]
  },
  {
   "cell_type": "code",
   "execution_count": 0,
   "metadata": {
    "colab": {
     "base_uri": "https://localhost:8080/",
     "height": 438
    },
    "colab_type": "code",
    "id": "gvKy7Isxn0n6",
    "outputId": "4d198667-d882-46c2-b9e3-76d7da3af6e5"
   },
   "outputs": [
    {
     "data": {
      "image/png": "[encoded data removed]",
      "text/plain": [
       "<Figure size 864x432 with 10 Axes>"
      ]
     },
     "metadata": {
      "tags": []
     },
     "output_type": "display_data"
    }
   ],
   "source": [
    "from utils import utils; utils.plot_results()"
   ]
  },
  {
   "cell_type": "markdown",
   "metadata": {
    "colab_type": "text",
    "id": "QvH2bf4Xq-0I"
   },
   "source": [
    "## Conduct inference and display results\n",
    "\n"
   ]
  },
  {
   "cell_type": "markdown",
   "metadata": {
    "colab_type": "text",
    "id": "ubWkZfNK6RCk"
   },
   "source": [
    "### Conduct inference\n",
    "\n",
    "The below script has a few key arguments we're using:\n",
    "- **Weights**: we're specifying the weights to use for our model should be those that we most recently used in training\n",
    "- **Source**: we're specifying the source images we want to use for our predictions\n",
    "- **Names**: we're defining the names we want to use. Here, we're referencing `roboflow_data.names`, which we created from our Roboflow `_darknet.labels`italicized text above."
   ]
  },
  {
   "cell_type": "code",
   "execution_count": 0,
   "metadata": {
    "colab": {},
    "colab_type": "code",
    "id": "FB4Lfxt-n0qP"
   },
   "outputs": [],
   "source": [
    "!python3 detect.py --weights weights/last.pt --source=../test --names=../train/roboflow_data.names"
   ]
  },
  {
   "cell_type": "code",
   "execution_count": 0,
   "metadata": {
    "colab": {},
    "colab_type": "code",
    "id": "MhszzhAs41Ed"
   },
   "outputs": [],
   "source": []
  },
  {
   "cell_type": "code",
   "execution_count": 0,
   "metadata": {
    "colab": {},
    "colab_type": "code",
    "id": "Sr9Sg0OH8GOl"
   },
   "outputs": [],
   "source": []
  },
  {
   "cell_type": "markdown",
   "metadata": {
    "colab_type": "text",
    "id": "jGgVRiJd8HJZ"
   },
   "source": [
    "### Displaying our results\n",
    "\n",
    "Ultralytics generates predictions which include the labels and bounding boxes \"printed\" directly on top of our images. They're saved in our `output` directory within the YOLOv3 repo we cloned above."
   ]
  },
  {
   "cell_type": "code",
   "execution_count": 0,
   "metadata": {
    "colab": {},
    "colab_type": "code",
    "id": "SdAEEulm4zxI"
   },
   "outputs": [],
   "source": [
    "# import libraries for display\n",
    "%matplotlib inline\n",
    "import matplotlib.pyplot as plt\n",
    "import numpy as np\n",
    "from IPython.display import display, Image\n",
    "from glob import glob\n",
    "import random\n",
    "import PIL"
   ]
  },
  {
   "cell_type": "code",
   "execution_count": 0,
   "metadata": {
    "colab": {},
    "colab_type": "code",
    "id": "8TW1ctRD51UO"
   },
   "outputs": [],
   "source": [
    "# plot just one random image prediction\n",
    "filename = random.choice(os.listdir('./output'))\n",
    "print(filename)\n",
    "Image('./output/' + filename)"
   ]
  },
  {
   "cell_type": "code",
   "execution_count": 0,
   "metadata": {
    "colab": {},
    "colab_type": "code",
    "id": "pzxLXker5dgx"
   },
   "outputs": [],
   "source": [
    "# grab all images from our output directory\n",
    "images = [ PIL.Image.open(f) for f in glob('./output/*') ]"
   ]
  },
  {
   "cell_type": "code",
   "execution_count": 0,
   "metadata": {
    "colab": {},
    "colab_type": "code",
    "id": "Bn3kGA9M40j4"
   },
   "outputs": [],
   "source": [
    "# convert images to numPy\n",
    "def img2array(im):\n",
    "    if im.mode != 'RGB':\n",
    "        im = im.convert(mode='RGB')\n",
    "    return np.fromstring(im.tobytes(), dtype='uint8').reshape((im.size[1], im.size[0], 3))"
   ]
  },
  {
   "cell_type": "code",
   "execution_count": 0,
   "metadata": {
    "colab": {},
    "colab_type": "code",
    "id": "O8mMr52J5kxn"
   },
   "outputs": [],
   "source": [
    "# create array of numPy images\n",
    "np_images = [ img2array(im) for im in images ]"
   ]
  },
  {
   "cell_type": "code",
   "execution_count": 0,
   "metadata": {
    "colab": {},
    "colab_type": "code",
    "id": "pjcEs32q5EYz"
   },
   "outputs": [],
   "source": [
    "# plot ALL results in test directory (NOTE: adjust figsize as you please)\n",
    "for img in np_images:\n",
    "    plt.figure(figsize=(8, 6))\n",
    "    plt.imshow(img)"
   ]
  },
  {
   "cell_type": "code",
   "execution_count": 0,
   "metadata": {
    "colab": {},
    "colab_type": "code",
    "id": "Z-21cwp18sUi"
   },
   "outputs": [],
   "source": []
  }
 ],
 "metadata": {
  "accelerator": "GPU",
  "colab": {
   "collapsed_sections": [],
   "name": "Roboflow-Yolov3-PyTorch.ipynb",
   "provenance": []
  },
  "kernelspec": {
   "display_name": "Python 3",
   "language": "python",
   "name": "python3"
  },
  "language_info": {
   "codemirror_mode": {
    "name": "ipython",
    "version": 3
   },
   "file_extension": ".py",
   "mimetype": "text/x-python",
   "name": "python",
   "nbconvert_exporter": "python",
   "pygments_lexer": "ipython3",
   "version": "3.7.6"
  }
 },
 "nbformat": 4,
 "nbformat_minor": 1
}
